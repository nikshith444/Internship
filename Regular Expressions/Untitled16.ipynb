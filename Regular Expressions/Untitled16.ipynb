{
 "cells": [
  {
   "cell_type": "code",
   "execution_count": 1,
   "id": "f8541d0d",
   "metadata": {},
   "outputs": [
    {
     "name": "stdout",
     "output_type": "stream",
     "text": [
      "Python:Exercises::PHP:exercises:\n"
     ]
    }
   ],
   "source": [
    "import re\n",
    "text = \"Python Exercises, PHP exercises.\"\n",
    "pattern = \"[ ,.]\"\n",
    "result = re.sub(pattern, \":\", text)\n",
    "print(result)"
   ]
  },
  {
   "cell_type": "code",
   "execution_count": 2,
   "id": "59662532",
   "metadata": {},
   "outputs": [
    {
     "name": "stdout",
     "output_type": "stream",
     "text": [
      "            SUMMARY\n",
      "0       hello world\n",
      "1              test\n",
      "2  123four five six\n"
     ]
    }
   ],
   "source": [
    "import pandas as pd\n",
    "data = {'SUMMARY': ['hello, world!', 'XXXXX test', '123four, five:; six...']}\n",
    "df = pd.DataFrame(data)\n",
    "def remove_special_characters(text):\n",
    "    cleaned_text = re.sub(r'[^\\w\\s]|XXXXX', '', text)\n",
    "    cleaned_text = re.sub(r'\\s+', ' ', cleaned_text)\n",
    "    return cleaned_text.strip()\n",
    "df['SUMMARY'] = df['SUMMARY'].apply(remove_special_characters)\n",
    "\n",
    "print(df)"
   ]
  },
  {
   "cell_type": "code",
   "execution_count": 3,
   "id": "3697a961",
   "metadata": {},
   "outputs": [
    {
     "name": "stdout",
     "output_type": "stream",
     "text": [
      "['love', 'Biryani', 'Kebab']\n"
     ]
    }
   ],
   "source": [
    "string = \"I love to eat Biryani and Kebab.\"\n",
    "pattern = re.compile(r'\\b\\w{4,}\\b')\n",
    "result = pattern.findall(string)\n",
    "print(result)"
   ]
  },
  {
   "cell_type": "code",
   "execution_count": 4,
   "id": "a824f9e3",
   "metadata": {},
   "outputs": [
    {
     "name": "stdout",
     "output_type": "stream",
     "text": [
      "['cook', 'than', 'her']\n"
     ]
    }
   ],
   "source": [
    "string = \"He is a better cook than her\"\n",
    "pattern = re.compile(r'\\b\\w{3,5}\\b')\n",
    "result = pattern.findall(string)\n",
    "print(result)"
   ]
  },
  {
   "cell_type": "code",
   "execution_count": 5,
   "id": "7a714f38",
   "metadata": {},
   "outputs": [
    {
     "name": "stdout",
     "output_type": "stream",
     "text": [
      "\"example \"\n",
      "\"hr@fliprobo \"\n",
      "\"github \"\n",
      "\"Hello \"\n",
      "\"Data \"\n"
     ]
    }
   ],
   "source": [
    "def remove_parenthesis(text_list):\n",
    "    pattern = re.compile(r'\\([^()]*\\)')\n",
    "    cleaned_list = [pattern.sub('', text) for text in text_list]\n",
    "    return cleaned_list\n",
    "sample_text = ['\"example (.com)\"', '\"hr@fliprobo (.com)\"', '\"github (.com)\"', '\"Hello (Data Science World)\"', '\"Data (Scientist)\"']\n",
    "output_text = remove_parenthesis(sample_text)\n",
    "for text in output_text:\n",
    "    print(text)"
   ]
  },
  {
   "cell_type": "code",
   "execution_count": 6,
   "id": "ece33dfc",
   "metadata": {},
   "outputs": [
    {
     "name": "stdout",
     "output_type": "stream",
     "text": [
      "[\"example \", \"hr@fliprobo \", \"github \", \"Hello \", \"Data \"]\n"
     ]
    }
   ],
   "source": [
    "text = '[\"example (.com)\", \"hr@fliprobo (.com)\", \"github (.com)\", \"Hello (Data Science World)\", \"Data (Scientist)\"]'\n",
    "pattern = r'\\([^()]*\\)'\n",
    "result = re.sub(pattern, '', text)\n",
    "print(result)"
   ]
  },
  {
   "cell_type": "code",
   "execution_count": 7,
   "id": "bf8d8980",
   "metadata": {},
   "outputs": [
    {
     "name": "stdout",
     "output_type": "stream",
     "text": [
      "['Importance', 'Of', 'Regular', 'Expressions', 'In', 'Python']\n"
     ]
    }
   ],
   "source": [
    "text = \"ImportanceOfRegularExpressionsInPython\"\n",
    "pattern = r\"[A-Z][^A-Z]+\"\n",
    "results = re.findall(pattern, text)\n",
    "print(results)"
   ]
  },
  {
   "cell_type": "code",
   "execution_count": 8,
   "id": "272467e7",
   "metadata": {},
   "outputs": [
    {
     "name": "stdout",
     "output_type": "stream",
     "text": [
      "RegularExpression 1IsAn 2ImportantTopic 3InPython\n"
     ]
    }
   ],
   "source": [
    "text = \"RegularExpression1IsAn2ImportantTopic3InPython\"\n",
    "result = re.sub(r'(\\D)(\\d)', r'\\1 \\2', text)\n",
    "print(result)"
   ]
  },
  {
   "cell_type": "code",
   "execution_count": 9,
   "id": "d8fd7d82",
   "metadata": {},
   "outputs": [
    {
     "name": "stdout",
     "output_type": "stream",
     "text": [
      "Regular Expression 1 Is An 2 Important Topic 3 In Python\n"
     ]
    }
   ],
   "source": [
    "text = \"RegularExpression1IsAn2ImportantTopic3InPython\"\n",
    "pattern = re.findall(r'[A-Z][a-z]*|\\d+', text)\n",
    "result = ' '.join(pattern)\n",
    "print(result)"
   ]
  },
  {
   "cell_type": "code",
   "execution_count": 10,
   "id": "39811747",
   "metadata": {},
   "outputs": [
    {
     "name": "stdout",
     "output_type": "stream",
     "text": [
      "0      Switze\n",
      "1      Icelan\n",
      "2      Denmar\n",
      "3      Norway\n",
      "4      Canada\n",
      "        ...  \n",
      "153    Rwanda\n",
      "154     Benin\n",
      "155     Syria\n",
      "156    Burund\n",
      "157      Togo\n",
      "Name: first_five_letters, Length: 158, dtype: object\n"
     ]
    }
   ],
   "source": [
    "import pandas as pd\n",
    "url = \"https://raw.githubusercontent.com/dsrscientist/DSData/master/happiness_score_dataset.csv\"\n",
    "df = pd.read_csv(url)\n",
    "df['first_five_letters'] = df['Country'].apply(lambda x: x[:6])\n",
    "print(df['first_five_letters'])"
   ]
  },
  {
   "cell_type": "code",
   "execution_count": 11,
   "id": "be7f79c0",
   "metadata": {},
   "outputs": [
    {
     "name": "stdout",
     "output_type": "stream",
     "text": [
      "You are wrong!\n",
      "You are right!\n"
     ]
    }
   ],
   "source": [
    "def text_match(text):\n",
    "        patterns = '^[a-zA-Z0-9_]*$'\n",
    "        if re.search(patterns,  text):\n",
    "                return 'You are right!'\n",
    "        else:\n",
    "                return('You are wrong!')\n",
    "\n",
    "print(text_match(\"Myself 444.\"))\n",
    "print(text_match(\"Myself_444\"))"
   ]
  },
  {
   "cell_type": "code",
   "execution_count": 12,
   "id": "10191f4f",
   "metadata": {},
   "outputs": [
    {
     "name": "stdout",
     "output_type": "stream",
     "text": [
      "Correct\n",
      "Incorrect\n"
     ]
    }
   ],
   "source": [
    "def match_num(string):\n",
    "    text = re.compile(r\"^4\")\n",
    "    if text.match(string):\n",
    "        return 'Correct'\n",
    "    else:\n",
    "        return 'Incorrect'\n",
    "print(match_num('468540'))\n",
    "print(match_num('546854'))"
   ]
  },
  {
   "cell_type": "code",
   "execution_count": 13,
   "id": "f463e317",
   "metadata": {},
   "outputs": [
    {
     "name": "stdout",
     "output_type": "stream",
     "text": [
      "192.4.101.10\n"
     ]
    }
   ],
   "source": [
    "ip = \"192.004.101.010\"\n",
    "result = re.sub('\\.[0]*', '.', ip)\n",
    "print(result)"
   ]
  },
  {
   "cell_type": "code",
   "execution_count": 14,
   "id": "6cdc7cee",
   "metadata": {},
   "outputs": [
    {
     "name": "stdout",
     "output_type": "stream",
     "text": [
      "Matched date: August 15th 1947\n"
     ]
    }
   ],
   "source": [
    "file_path = r'C:\\Users\\Nik\\Pictures\\Screenshots\\sample_text.txt'\n",
    "with open(file_path, 'r') as file:\n",
    "    text = file.read()\n",
    "pattern = r'\\b(?:January|February|March|April|May|June|July|August|September|October|November|December)\\s+\\d{1,2}(?:st|nd|rd|th)\\s+\\d{4}\\b'\n",
    "matches = re.findall(pattern, text)\n",
    "for match in matches:\n",
    "    print(\"Matched date:\", match)"
   ]
  },
  {
   "cell_type": "code",
   "execution_count": 15,
   "id": "d3627497",
   "metadata": {},
   "outputs": [
    {
     "name": "stdout",
     "output_type": "stream",
     "text": [
      "'fox' found.\n",
      "'dog' found.\n",
      "'horse' not found.\n"
     ]
    }
   ],
   "source": [
    "def search_strings(text, searched_words):\n",
    "    for word in searched_words:\n",
    "        if re.search(r'\\b' + re.escape(word) + r'\\b', text):\n",
    "            print(f\"'{word}' found.\")\n",
    "        else:\n",
    "            print(f\"'{word}' not found.\")\n",
    "sample_text = 'The quick brown fox jumps over the lazy dog.'\n",
    "searched_words = ['fox', 'dog', 'horse']\n",
    "search_strings(sample_text, searched_words)\n"
   ]
  },
  {
   "cell_type": "code",
   "execution_count": 16,
   "id": "9dbd10d3",
   "metadata": {},
   "outputs": [
    {
     "name": "stdout",
     "output_type": "stream",
     "text": [
      "'fox' found between index 16 to 18.\n"
     ]
    }
   ],
   "source": [
    "def search_string_with_location(text, searched_word):\n",
    "    match = re.search(re.escape(searched_word), text)\n",
    "    if match:\n",
    "        start_index = match.start()\n",
    "        end_index = match.end()\n",
    "        print(f\"'{searched_word}' found between index {start_index} to {end_index - 1}.\")\n",
    "    else:\n",
    "        print(f\"'{searched_word}' not found.\")\n",
    "\n",
    "sample_text = 'The quick brown fox jumps over the lazy dog.'\n",
    "\n",
    "searched_word = 'fox'\n",
    "\n",
    "search_string_with_location(sample_text, searched_word)\n"
   ]
  },
  {
   "cell_type": "code",
   "execution_count": 17,
   "id": "fb499928",
   "metadata": {},
   "outputs": [
    {
     "name": "stdout",
     "output_type": "stream",
     "text": [
      "['exercises', 'exercises', 'exercises']\n"
     ]
    }
   ],
   "source": [
    "text = 'Python exercises, PHP exercises, C# exercises'\n",
    "pattern = 'exercises'\n",
    "matches = re.finditer(pattern, text)\n",
    "substrings = [match.group(0) for match in matches]\n",
    "print(substrings)"
   ]
  },
  {
   "cell_type": "code",
   "execution_count": 18,
   "id": "ca4eadf6",
   "metadata": {},
   "outputs": [
    {
     "name": "stdout",
     "output_type": "stream",
     "text": [
      "Substring 'Python' found at positions: [0, 43]\n"
     ]
    }
   ],
   "source": [
    "def find_occurrences_and_positions(main_string, sub_string):\n",
    "    occurrences = []\n",
    "    start = 0\n",
    "    while True:\n",
    "        start = main_string.find(sub_string, start)\n",
    "        if start == -1:\n",
    "            break\n",
    "        occurrences.append(start)\n",
    "        start += 1\n",
    "    return occurrences\n",
    "\n",
    "def main():\n",
    "    main_string = \"Python is a powerful programming language. Python is also easy to learn.\"\n",
    "    sub_string = \"Python\"\n",
    "    positions = find_occurrences_and_positions(main_string, sub_string)\n",
    "    if positions:\n",
    "        print(\"Substring '{}' found at positions: {}\".format(sub_string, positions))\n",
    "    else:\n",
    "        print(\"Substring '{}' not found in the main string.\".format(sub_string))\n",
    "\n",
    "if __name__ == \"__main__\":\n",
    "    main()\n"
   ]
  },
  {
   "cell_type": "code",
   "execution_count": 19,
   "id": "775783d4",
   "metadata": {},
   "outputs": [
    {
     "name": "stdout",
     "output_type": "stream",
     "text": [
      "Original date in YYY-MM-DD Format:  2020-03-22\n",
      "New date in DD-MM-YYYY Format:  22-03-2020\n"
     ]
    }
   ],
   "source": [
    "def change_date_format(dt):\n",
    "        return re.sub(r'(\\d{4})-(\\d{1,2})-(\\d{1,2})', '\\\\3-\\\\2-\\\\1', dt)\n",
    "dt1 = \"2020-03-22\"\n",
    "print(\"Original date in YYY-MM-DD Format: \",dt1)\n",
    "print(\"New date in DD-MM-YYYY Format: \",change_date_format(dt1))"
   ]
  },
  {
   "cell_type": "code",
   "execution_count": 20,
   "id": "d3207e84",
   "metadata": {},
   "outputs": [
    {
     "name": "stdout",
     "output_type": "stream",
     "text": [
      "['01.12', '145.8', '3.01', '27.25', '0.25']\n"
     ]
    }
   ],
   "source": [
    "text = \"01.12 0132.123 2.31875 145.8 3.01 27.25 0.25\"\n",
    "pattern = re.compile(r'\\b\\d+\\.\\d{1,2}\\b')\n",
    "result = pattern.findall(text)\n",
    "print(result)"
   ]
  },
  {
   "cell_type": "code",
   "execution_count": 21,
   "id": "93c0335f",
   "metadata": {},
   "outputs": [
    {
     "name": "stdout",
     "output_type": "stream",
     "text": [
      "Numbers: ['1', '0', '5']\n",
      "Positions: [10, 11, 24]\n"
     ]
    }
   ],
   "source": [
    "def separate_numbers_and_positions(string):\n",
    "    numbers = []\n",
    "    positions = []\n",
    "    \n",
    "    for i, char in enumerate(string):\n",
    "        if char.isdigit():\n",
    "            numbers.append(char)\n",
    "            positions.append(i)\n",
    "    \n",
    "    return numbers, positions\n",
    "\n",
    "def main():\n",
    "    sample_string = \"There are 10 apples and 5 oranges on the table.\"\n",
    "    numbers, positions = separate_numbers_and_positions(sample_string)\n",
    "    print(\"Numbers:\", numbers)\n",
    "    print(\"Positions:\", positions)\n",
    "\n",
    "if __name__ == \"__main__\":\n",
    "    main()\n"
   ]
  },
  {
   "cell_type": "code",
   "execution_count": 22,
   "id": "a22f929d",
   "metadata": {},
   "outputs": [
    {
     "name": "stdout",
     "output_type": "stream",
     "text": [
      "950\n"
     ]
    }
   ],
   "source": [
    "string = 'My marks in each semester are: 947, 896, 926, 524, 734, 950, 642'\n",
    "values = re.findall(r'\\d+', string)\n",
    "max_value = max(values)\n",
    "print(max_value)"
   ]
  },
  {
   "cell_type": "code",
   "execution_count": 23,
   "id": "f5967e5a",
   "metadata": {},
   "outputs": [
    {
     "name": "stdout",
     "output_type": "stream",
     "text": [
      " Regular Expression Is An Important Topic In Python\n"
     ]
    }
   ],
   "source": [
    "text = \"RegularExpressionIsAnImportantTopicInPython\"\n",
    "pattern = r'([A-Z][a-z]+)'\n",
    "result = re.sub(pattern, r' \\1', text)\n",
    "print(result)"
   ]
  },
  {
   "cell_type": "code",
   "execution_count": 24,
   "id": "bacabded",
   "metadata": {},
   "outputs": [
    {
     "name": "stdout",
     "output_type": "stream",
     "text": [
      "['Virat', 'Kohli', 'Babar', 'Azam']\n"
     ]
    }
   ],
   "source": [
    "pattern = r'[A-Z][a-z]+'\n",
    "text = \"Virat Kohli is better than Babar Azam\"\n",
    "\n",
    "matches = re.findall(pattern, text)\n",
    "print(matches)"
   ]
  },
  {
   "cell_type": "code",
   "execution_count": 25,
   "id": "75013785",
   "metadata": {},
   "outputs": [
    {
     "name": "stdout",
     "output_type": "stream",
     "text": [
      "Hello hello world\n"
     ]
    }
   ],
   "source": [
    "text = \"Hello hello world world\"\n",
    "pattern = r'\\b(\\w+)(\\s+\\1\\b)+'\n",
    "result = re.sub(pattern, r'\\1', text)\n",
    "print(result)"
   ]
  },
  {
   "cell_type": "code",
   "execution_count": 26,
   "id": "944ececf",
   "metadata": {},
   "outputs": [
    {
     "name": "stdout",
     "output_type": "stream",
     "text": [
      "nik444 ends with an alphanumeric character.\n",
      "viru ends with an alphanumeric character.\n",
      "mahi7789 ends with an alphanumeric character.\n",
      "vk18 ends with an alphanumeric character.\n",
      "tanu__ does not end with an alphanumeric character.\n"
     ]
    }
   ],
   "source": [
    "def ends_with_alphanumeric(input_string):\n",
    "    pattern = r'.*[a-zA-Z0-9]$' \n",
    "    if re.match(pattern, input_string):\n",
    "        return True\n",
    "    else:\n",
    "        return False\n",
    "test_strings = [\"nik444\", \"viru\", \"mahi7789\", \"vk18\", \"tanu__\"]\n",
    "for string in test_strings:\n",
    "    if ends_with_alphanumeric(string):\n",
    "        print(f\"{string} ends with an alphanumeric character.\")\n",
    "    else:\n",
    "        print(f\"{string} does not end with an alphanumeric character.\")\n"
   ]
  },
  {
   "cell_type": "code",
   "execution_count": 27,
   "id": "71c3f497",
   "metadata": {},
   "outputs": [
    {
     "name": "stdout",
     "output_type": "stream",
     "text": [
      "['#Doltiwal', '#xyzabc', '#Demonetization']\n"
     ]
    }
   ],
   "source": [
    "text = 'RT @kapil_kausik: #Doltiwal I mean #xyzabc is \"hurt\" by #Demonetization as the same has rendered USELESS <ed><U+00A0><U+00BD><ed><U+00B1><U+0089> \"acquired funds\" No wo'\n",
    "hashtags = re.findall(r'#\\w+', text)\n",
    "print(hashtags)"
   ]
  },
  {
   "cell_type": "code",
   "execution_count": 28,
   "id": "40b05ea6",
   "metadata": {},
   "outputs": [
    {
     "name": "stdout",
     "output_type": "stream",
     "text": [
      "@Jags123456 Bharat band on 28??<ed><ed>Those who are protesting #demonetization are all different party leaders\n"
     ]
    }
   ],
   "source": [
    "text = \"@Jags123456 Bharat band on 28??<ed><U+00A0><U+00BD><ed><U+00B8><U+0082>Those who are protesting #demonetization are all different party leaders\"\n",
    "pattern = r\"<U\\+\\w{4}>\"\n",
    "result = re.sub(pattern, \"\", text)\n",
    "print(result)"
   ]
  },
  {
   "cell_type": "code",
   "execution_count": 31,
   "id": "b7c4f1b0",
   "metadata": {},
   "outputs": [
    {
     "name": "stdout",
     "output_type": "stream",
     "text": [
      "Dates extracted from the text:\n",
      "12-09-1992\n",
      "15-12-1999\n"
     ]
    }
   ],
   "source": [
    "def extract_dates_from_text(file_path):\n",
    "    with open(file_path, 'r') as file:\n",
    "        text = file.read()\n",
    "        dates = re.findall(r'\\b\\d{2}-\\d{2}-\\d{4}\\b', text)\n",
    "        return dates\n",
    "\n",
    "def main():\n",
    "    file_path = r\"C:\\Users\\Nik\\Pictures\\Screenshots\\simple_text.txt\"\n",
    "    dates = extract_dates_from_text(file_path)\n",
    "    \n",
    "    if dates:\n",
    "        print(\"Dates extracted from the text:\")\n",
    "        for date in dates:\n",
    "            print(date)\n",
    "    else:\n",
    "        print(\"No dates found in the text.\")\n",
    "\n",
    "if __name__ == \"__main__\":\n",
    "    main()"
   ]
  },
  {
   "cell_type": "code",
   "execution_count": 30,
   "id": "823f367a",
   "metadata": {},
   "outputs": [
    {
     "name": "stdout",
     "output_type": "stream",
     "text": [
      " following example creates  ArrayList  a capacity   elements. 4 elements   added   ArrayList   ArrayList  trimmed accordingly.\n"
     ]
    }
   ],
   "source": [
    "text = \"The following example creates an ArrayList with a capacity of 50 elements. 4 elements are then added to the ArrayList and the ArrayList is trimmed accordingly.\"\n",
    "pattern = re.compile(r'\\b\\w{2,4}\\b')\n",
    "result = re.sub(pattern, '', text)\n",
    "print(result)"
   ]
  },
  {
   "cell_type": "code",
   "execution_count": null,
   "id": "4bfc16bf",
   "metadata": {},
   "outputs": [],
   "source": []
  }
 ],
 "metadata": {
  "kernelspec": {
   "display_name": "Python 3 (ipykernel)",
   "language": "python",
   "name": "python3"
  },
  "language_info": {
   "codemirror_mode": {
    "name": "ipython",
    "version": 3
   },
   "file_extension": ".py",
   "mimetype": "text/x-python",
   "name": "python",
   "nbconvert_exporter": "python",
   "pygments_lexer": "ipython3",
   "version": "3.11.5"
  }
 },
 "nbformat": 4,
 "nbformat_minor": 5
}
